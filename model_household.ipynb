{
 "metadata": {
  "language_info": {
   "codemirror_mode": {
    "name": "ipython",
    "version": 3
   },
   "file_extension": ".py",
   "mimetype": "text/x-python",
   "name": "python",
   "nbconvert_exporter": "python",
   "pygments_lexer": "ipython3",
   "version": "3.7.9-final"
  },
  "orig_nbformat": 2,
  "kernelspec": {
   "name": "Python 3.7.9 64-bit ('pysyft')",
   "display_name": "Python 3.7.9 64-bit ('pysyft')",
   "metadata": {
    "interpreter": {
     "hash": "56ddddcc2007d7d258a105128e560ea11da4395889848cd354f02f8a683b5dac"
    }
   }
  }
 },
 "nbformat": 4,
 "nbformat_minor": 2,
 "cells": [
  {
   "cell_type": "code",
   "execution_count": 3,
   "metadata": {},
   "outputs": [],
   "source": [
    "import pandas as pd\n",
    "import numpy as np\n",
    "\n",
    "from sklearn import preprocessing\n",
    "from sklearn.linear_model import LogisticRegression\n",
    "from sklearn.model_selection import train_test_split\n",
    "\n",
    "import matplotlib.pyplot as plt\n",
    "import seaborn as sns\n"
   ]
  },
  {
   "cell_type": "markdown",
   "metadata": {},
   "source": [
    "## Data Exploration"
   ]
  },
  {
   "cell_type": "code",
   "execution_count": 6,
   "metadata": {
    "tags": []
   },
   "outputs": [
    {
     "output_type": "stream",
     "name": "stdout",
     "text": "(4999, 27)\nIndex([&#39;Sex&#39;, &#39;Age&#39;, &#39;Occupation&#39;, &#39;Education&#39;, &#39;Elderly&#39;, &#39;Disabled&#39;,\n       &#39;Chronic_Patient&#39;, &#39;Self_Reliance&#39;, &#39;Province_ID&#39;, &#39;Amphur_ID&#39;,\n       &#39;District_Type&#39;, &#39;Main&#39;, &#39;Accommodation_Own&#39;, &#39;Accommodation_Rent&#39;,\n       &#39;Accommodation_Public&#39;, &#39;Accommodation_Other&#39;,\n       &#39;Accommodation_Other_Name&#39;, &#39;Accommodation_Doc_Type&#39;, &#39;Occupation_Own&#39;,\n       &#39;Occupation_Rent&#39;, &#39;Occupation_Public&#39;, &#39;Occupation_Other&#39;,\n       &#39;Occupation_Other_Name&#39;, &#39;Occupation_Doc_Type&#39;, &#39;Happiness&#39;,\n       &#39;Owner_Income&#39;, &#39;Label&#39;],\n      dtype=&#39;object&#39;)\n"
    }
   ],
   "source": [
    "data = pd.read_csv('data/data_welfare.csv')\n",
    "data = data.dropna()\n",
    "print(data.shape)\n",
    "print(data.columns)"
   ]
  },
  {
   "cell_type": "code",
   "execution_count": 7,
   "metadata": {},
   "outputs": [
    {
     "output_type": "execute_result",
     "data": {
      "text/plain": "  Sex  Age     Occupation                             Education  Elderly  \\\n0   ญ   43     เกษตร-ทำนา                ประถมฯ (ป.4, ป.7, ป.6)        0   \n1   ญ   54  ธุรกิจส่วนตัว     อนุปริญญา หรือเทียบเท่า หรือ ปวส.        0   \n2   ช   22  รับจ้างทั่วไป  ม.ปลาย (มศ.4-5 หรือ ม.4-6 หรือ ปวช.)        0   \n3   ญ   49  รับจ้างทั่วไป  ม.ปลาย (มศ.4-5 หรือ ม.4-6 หรือ ปวช.)        0   \n4   ช   45     เกษตร-ทำนา                ประถมฯ (ป.4, ป.7, ป.6)        0   \n\n   Disabled  Chronic_Patient  Self_Reliance  Province_ID  Amphur_ID  ...  \\\n0         0                0              0           34       3407  ...   \n1         0                0              0           34       3401  ...   \n2         0                0              0           57       5701  ...   \n3         0                0              0           71       7105  ...   \n4         0                0              0           40       4019  ...   \n\n                              Accommodation_Doc_Type  Occupation_Own  \\\n0  โฉนดที่ดิน (น.ส.4, น.ส.4 ก, น.ส.4 ข, น.ส.4 ค, ...              10   \n1  หนังสือรับรองการทำประโยชน์ (น.ส.3, น.ส.3 ก หรื...               0   \n2  โฉนดที่ดิน (น.ส.4, น.ส.4 ก, น.ส.4 ข, น.ส.4 ค, ...               0   \n3                                                  0               0   \n4                  แบบยื่นภาษีบำรุงท้องที่ (ภ.บ.ท.5)              29   \n\n   Occupation_Rent  Occupation_Public  Occupation_Other  \\\n0                0                  0                 0   \n1                0                  0                 0   \n2                0                  0                 0   \n3                0                  0                 0   \n4                0                  0                 0   \n\n   Occupation_Other_Name                                Occupation_Doc_Type  \\\n0                      0  โฉนดที่ดิน (น.ส.4, น.ส.4 ก, น.ส.4 ข, น.ส.4 ค, ...   \n1                      0                                                  0   \n2                      0                                                  0   \n3                      0                                                  0   \n4                      0  หนังสือรับรองการทำประโยชน์ (น.ส.3, น.ส.3 ก หรื...   \n\n  Happiness  Owner_Income  Label  \n0        10      100000.0      1  \n1        10      100000.0      1  \n2         9      100000.0      1  \n3         7      100000.0      1  \n4         7      100000.0      1  \n\n[5 rows x 27 columns]",
      "text/html": "<div>\n<style scoped>\n    .dataframe tbody tr th:only-of-type {\n        vertical-align: middle;\n    }\n\n    .dataframe tbody tr th {\n        vertical-align: top;\n    }\n\n    .dataframe thead th {\n        text-align: right;\n    }\n</style>\n<table border=\"1\" class=\"dataframe\">\n  <thead>\n    <tr style=\"text-align: right;\">\n      <th></th>\n      <th>Sex</th>\n      <th>Age</th>\n      <th>Occupation</th>\n      <th>Education</th>\n      <th>Elderly</th>\n      <th>Disabled</th>\n      <th>Chronic_Patient</th>\n      <th>Self_Reliance</th>\n      <th>Province_ID</th>\n      <th>Amphur_ID</th>\n      <th>...</th>\n      <th>Accommodation_Doc_Type</th>\n      <th>Occupation_Own</th>\n      <th>Occupation_Rent</th>\n      <th>Occupation_Public</th>\n      <th>Occupation_Other</th>\n      <th>Occupation_Other_Name</th>\n      <th>Occupation_Doc_Type</th>\n      <th>Happiness</th>\n      <th>Owner_Income</th>\n      <th>Label</th>\n    </tr>\n  </thead>\n  <tbody>\n    <tr>\n      <th>0</th>\n      <td>ญ</td>\n      <td>43</td>\n      <td>เกษตร-ทำนา</td>\n      <td>ประถมฯ (ป.4, ป.7, ป.6)</td>\n      <td>0</td>\n      <td>0</td>\n      <td>0</td>\n      <td>0</td>\n      <td>34</td>\n      <td>3407</td>\n      <td>...</td>\n      <td>โฉนดที่ดิน (น.ส.4, น.ส.4 ก, น.ส.4 ข, น.ส.4 ค, ...</td>\n      <td>10</td>\n      <td>0</td>\n      <td>0</td>\n      <td>0</td>\n      <td>0</td>\n      <td>โฉนดที่ดิน (น.ส.4, น.ส.4 ก, น.ส.4 ข, น.ส.4 ค, ...</td>\n      <td>10</td>\n      <td>100000.0</td>\n      <td>1</td>\n    </tr>\n    <tr>\n      <th>1</th>\n      <td>ญ</td>\n      <td>54</td>\n      <td>ธุรกิจส่วนตัว</td>\n      <td>อนุปริญญา หรือเทียบเท่า หรือ ปวส.</td>\n      <td>0</td>\n      <td>0</td>\n      <td>0</td>\n      <td>0</td>\n      <td>34</td>\n      <td>3401</td>\n      <td>...</td>\n      <td>หนังสือรับรองการทำประโยชน์ (น.ส.3, น.ส.3 ก หรื...</td>\n      <td>0</td>\n      <td>0</td>\n      <td>0</td>\n      <td>0</td>\n      <td>0</td>\n      <td>0</td>\n      <td>10</td>\n      <td>100000.0</td>\n      <td>1</td>\n    </tr>\n    <tr>\n      <th>2</th>\n      <td>ช</td>\n      <td>22</td>\n      <td>รับจ้างทั่วไป</td>\n      <td>ม.ปลาย (มศ.4-5 หรือ ม.4-6 หรือ ปวช.)</td>\n      <td>0</td>\n      <td>0</td>\n      <td>0</td>\n      <td>0</td>\n      <td>57</td>\n      <td>5701</td>\n      <td>...</td>\n      <td>โฉนดที่ดิน (น.ส.4, น.ส.4 ก, น.ส.4 ข, น.ส.4 ค, ...</td>\n      <td>0</td>\n      <td>0</td>\n      <td>0</td>\n      <td>0</td>\n      <td>0</td>\n      <td>0</td>\n      <td>9</td>\n      <td>100000.0</td>\n      <td>1</td>\n    </tr>\n    <tr>\n      <th>3</th>\n      <td>ญ</td>\n      <td>49</td>\n      <td>รับจ้างทั่วไป</td>\n      <td>ม.ปลาย (มศ.4-5 หรือ ม.4-6 หรือ ปวช.)</td>\n      <td>0</td>\n      <td>0</td>\n      <td>0</td>\n      <td>0</td>\n      <td>71</td>\n      <td>7105</td>\n      <td>...</td>\n      <td>0</td>\n      <td>0</td>\n      <td>0</td>\n      <td>0</td>\n      <td>0</td>\n      <td>0</td>\n      <td>0</td>\n      <td>7</td>\n      <td>100000.0</td>\n      <td>1</td>\n    </tr>\n    <tr>\n      <th>4</th>\n      <td>ช</td>\n      <td>45</td>\n      <td>เกษตร-ทำนา</td>\n      <td>ประถมฯ (ป.4, ป.7, ป.6)</td>\n      <td>0</td>\n      <td>0</td>\n      <td>0</td>\n      <td>0</td>\n      <td>40</td>\n      <td>4019</td>\n      <td>...</td>\n      <td>แบบยื่นภาษีบำรุงท้องที่ (ภ.บ.ท.5)</td>\n      <td>29</td>\n      <td>0</td>\n      <td>0</td>\n      <td>0</td>\n      <td>0</td>\n      <td>หนังสือรับรองการทำประโยชน์ (น.ส.3, น.ส.3 ก หรื...</td>\n      <td>7</td>\n      <td>100000.0</td>\n      <td>1</td>\n    </tr>\n  </tbody>\n</table>\n<p>5 rows × 27 columns</p>\n</div>"
     },
     "metadata": {},
     "execution_count": 7
    }
   ],
   "source": [
    "data.head()"
   ]
  },
  {
   "cell_type": "markdown",
   "metadata": {},
   "source": [
    "Check if there is 'NULL'."
   ]
  },
  {
   "cell_type": "code",
   "execution_count": 8,
   "metadata": {},
   "outputs": [
    {
     "output_type": "execute_result",
     "data": {
      "text/plain": "Sex                         0\nAge                         0\nOccupation                  0\nEducation                   0\nElderly                     0\nDisabled                    0\nChronic_Patient             0\nSelf_Reliance               0\nProvince_ID                 0\nAmphur_ID                   0\nDistrict_Type               0\nMain                        0\nAccommodation_Own           0\nAccommodation_Rent          0\nAccommodation_Public        0\nAccommodation_Other         0\nAccommodation_Other_Name    0\nAccommodation_Doc_Type      0\nOccupation_Own              0\nOccupation_Rent             0\nOccupation_Public           0\nOccupation_Other            0\nOccupation_Other_Name       0\nOccupation_Doc_Type         0\nHappiness                   0\nOwner_Income                0\nLabel                       0\ndtype: int64"
     },
     "metadata": {},
     "execution_count": 8
    }
   ],
   "source": [
    "data.isnull().sum()"
   ]
  },
  {
   "cell_type": "code",
   "execution_count": 9,
   "metadata": {},
   "outputs": [
    {
     "output_type": "execute_result",
     "data": {
      "text/plain": "0    2500\n1    2499\nName: Label, dtype: int64"
     },
     "metadata": {},
     "execution_count": 9
    }
   ],
   "source": [
    "data['Label'].value_counts()"
   ]
  },
  {
   "cell_type": "code",
   "execution_count": 10,
   "metadata": {},
   "outputs": [
    {
     "output_type": "execute_result",
     "data": {
      "text/plain": "             Age  Elderly  Disabled  Chronic_Patient  Self_Reliance  \\\nLabel                                                                 \n0      48.220800      0.0       0.0              0.0            0.0   \n1      54.136855      0.0       0.0              0.0            0.0   \n\n       Province_ID    Amphur_ID  District_Type           Main  \\\nLabel                                                           \n0        47.906000  4796.143200       5.308400  394595.870400   \n1        50.763505  5082.332533       5.569428  179911.078031   \n\n       Accommodation_Own  Accommodation_Rent  Accommodation_Public  \\\nLabel                                                                \n0               0.672000            0.002400              0.002000   \n1               0.543017            0.012005              0.003201   \n\n       Accommodation_Other  Occupation_Own  Occupation_Rent  \\\nLabel                                                         \n0                 0.017200        5.068000          0.86760   \n1                 0.016407        4.756703          0.72429   \n\n       Occupation_Public  Occupation_Other  Happiness   Owner_Income  \nLabel                                                                 \n0               0.002800           0.05680   8.270000  236748.734400  \n1               0.061625           0.19928   8.113645   81374.855819  ",
      "text/html": "<div>\n<style scoped>\n    .dataframe tbody tr th:only-of-type {\n        vertical-align: middle;\n    }\n\n    .dataframe tbody tr th {\n        vertical-align: top;\n    }\n\n    .dataframe thead th {\n        text-align: right;\n    }\n</style>\n<table border=\"1\" class=\"dataframe\">\n  <thead>\n    <tr style=\"text-align: right;\">\n      <th></th>\n      <th>Age</th>\n      <th>Elderly</th>\n      <th>Disabled</th>\n      <th>Chronic_Patient</th>\n      <th>Self_Reliance</th>\n      <th>Province_ID</th>\n      <th>Amphur_ID</th>\n      <th>District_Type</th>\n      <th>Main</th>\n      <th>Accommodation_Own</th>\n      <th>Accommodation_Rent</th>\n      <th>Accommodation_Public</th>\n      <th>Accommodation_Other</th>\n      <th>Occupation_Own</th>\n      <th>Occupation_Rent</th>\n      <th>Occupation_Public</th>\n      <th>Occupation_Other</th>\n      <th>Happiness</th>\n      <th>Owner_Income</th>\n    </tr>\n    <tr>\n      <th>Label</th>\n      <th></th>\n      <th></th>\n      <th></th>\n      <th></th>\n      <th></th>\n      <th></th>\n      <th></th>\n      <th></th>\n      <th></th>\n      <th></th>\n      <th></th>\n      <th></th>\n      <th></th>\n      <th></th>\n      <th></th>\n      <th></th>\n      <th></th>\n      <th></th>\n      <th></th>\n    </tr>\n  </thead>\n  <tbody>\n    <tr>\n      <th>0</th>\n      <td>48.220800</td>\n      <td>0.0</td>\n      <td>0.0</td>\n      <td>0.0</td>\n      <td>0.0</td>\n      <td>47.906000</td>\n      <td>4796.143200</td>\n      <td>5.308400</td>\n      <td>394595.870400</td>\n      <td>0.672000</td>\n      <td>0.002400</td>\n      <td>0.002000</td>\n      <td>0.017200</td>\n      <td>5.068000</td>\n      <td>0.86760</td>\n      <td>0.002800</td>\n      <td>0.05680</td>\n      <td>8.270000</td>\n      <td>236748.734400</td>\n    </tr>\n    <tr>\n      <th>1</th>\n      <td>54.136855</td>\n      <td>0.0</td>\n      <td>0.0</td>\n      <td>0.0</td>\n      <td>0.0</td>\n      <td>50.763505</td>\n      <td>5082.332533</td>\n      <td>5.569428</td>\n      <td>179911.078031</td>\n      <td>0.543017</td>\n      <td>0.012005</td>\n      <td>0.003201</td>\n      <td>0.016407</td>\n      <td>4.756703</td>\n      <td>0.72429</td>\n      <td>0.061625</td>\n      <td>0.19928</td>\n      <td>8.113645</td>\n      <td>81374.855819</td>\n    </tr>\n  </tbody>\n</table>\n</div>"
     },
     "metadata": {},
     "execution_count": 10
    }
   ],
   "source": [
    "data.groupby('Label').mean()"
   ]
  },
  {
   "cell_type": "markdown",
   "metadata": {},
   "source": [
    "ผลลัพธ์ข้างต้นชี้ให้เห็นว่า คอลัมน์ Elderly, Disabled, Chronic_Patient และ Self_Reliance ไม่มีผลต่อการแบ่งกลุ่มคนได้สวัสดิการครัวเรือน"
   ]
  },
  {
   "cell_type": "code",
   "execution_count": 11,
   "metadata": {},
   "outputs": [
    {
     "output_type": "execute_result",
     "data": {
      "text/plain": "                                            Age  Elderly  Disabled  \\\nEducation                                                            \nต่ำกว่าชั้นประถมฯ (ป.4, ป.7, ป.6)     62.500000      0.0       0.0   \nป.ตรี หรือเทียบเท่า                   45.610478      0.0       0.0   \nประถมฯ (ป.4, ป.7, ป.6)                56.388614      0.0       0.0   \nม.ต้น (มศ.1-3 หรือ ม.1-3)             45.498952      0.0       0.0   \nม.ปลาย (มศ.4-5 หรือ ม.4-6 หรือ ปวช.)  45.671280      0.0       0.0   \nสูงกว่าปริญญาตรี                      49.339286      0.0       0.0   \nอนุบาล/ศูนย์เด็กเล็ก                  73.000000      0.0       0.0   \nอนุปริญญา หรือเทียบเท่า หรือ ปวส.     39.030000      0.0       0.0   \nไม่เคยศึกษา                           57.429752      0.0       0.0   \n\n                                      Chronic_Patient  Self_Reliance  \\\nEducation                                                              \nต่ำกว่าชั้นประถมฯ (ป.4, ป.7, ป.6)                 0.0            0.0   \nป.ตรี หรือเทียบเท่า                               0.0            0.0   \nประถมฯ (ป.4, ป.7, ป.6)                            0.0            0.0   \nม.ต้น (มศ.1-3 หรือ ม.1-3)                         0.0            0.0   \nม.ปลาย (มศ.4-5 หรือ ม.4-6 หรือ ปวช.)              0.0            0.0   \nสูงกว่าปริญญาตรี                                  0.0            0.0   \nอนุบาล/ศูนย์เด็กเล็ก                              0.0            0.0   \nอนุปริญญา หรือเทียบเท่า หรือ ปวส.                 0.0            0.0   \nไม่เคยศึกษา                                       0.0            0.0   \n\n                                      Province_ID    Amphur_ID  District_Type  \\\nEducation                                                                       \nต่ำกว่าชั้นประถมฯ (ป.4, ป.7, ป.6)       52.972222  5302.861111       5.462963   \nป.ตรี หรือเทียบเท่า                     40.876993  4092.940774       5.143508   \nประถมฯ (ป.4, ป.7, ป.6)                  52.730198  5279.023927       5.563531   \nม.ต้น (มศ.1-3 หรือ ม.1-3)               55.861635  5592.450734       5.477987   \nม.ปลาย (มศ.4-5 หรือ ม.4-6 หรือ ปวช.)    49.835640  4989.224913       5.323529   \nสูงกว่าปริญญาตรี                        46.044643  4609.651786       4.830357   \nอนุบาล/ศูนย์เด็กเล็ก                    20.000000  2007.000000       6.000000   \nอนุปริญญา หรือเทียบเท่า หรือ ปวส.       30.773333  3081.986667       5.553333   \nไม่เคยศึกษา                             60.611570  6067.661157       5.735537   \n\n                                               Main  Accommodation_Own  \\\nEducation                                                                \nต่ำกว่าชั้นประถมฯ (ป.4, ป.7, ป.6)     303987.129630           0.546296   \nป.ตรี หรือเทียบเท่า                   411908.187927           0.462415   \nประถมฯ (ป.4, ป.7, ป.6)                250557.452145           0.681931   \nม.ต้น (มศ.1-3 หรือ ม.1-3)             221935.161426           0.872117   \nม.ปลาย (มศ.4-5 หรือ ม.4-6 หรือ ปวช.)  272908.650519           0.513841   \nสูงกว่าปริญญาตรี                      520362.767857           0.321429   \nอนุบาล/ศูนย์เด็กเล็ก                  168000.000000           0.000000   \nอนุปริญญา หรือเทียบเท่า หรือ ปวส.     279428.783333           0.183333   \nไม่เคยศึกษา                           234451.735537           0.950413   \n\n                                      Accommodation_Rent  \\\nEducation                                                  \nต่ำกว่าชั้นประถมฯ (ป.4, ป.7, ป.6)               0.009259   \nป.ตรี หรือเทียบเท่า                             0.000000   \nประถมฯ (ป.4, ป.7, ป.6)                          0.014439   \nม.ต้น (มศ.1-3 หรือ ม.1-3)                       0.000000   \nม.ปลาย (มศ.4-5 หรือ ม.4-6 หรือ ปวช.)            0.000000   \nสูงกว่าปริญญาตรี                                0.000000   \nอนุบาล/ศูนย์เด็กเล็ก                            0.000000   \nอนุปริญญา หรือเทียบเท่า หรือ ปวส.               0.000000   \nไม่เคยศึกษา                                     0.000000   \n\n                                      Accommodation_Public  \\\nEducation                                                    \nต่ำกว่าชั้นประถมฯ (ป.4, ป.7, ป.6)                 0.000000   \nป.ตรี หรือเทียบเท่า                               0.001139   \nประถมฯ (ป.4, ป.7, ป.6)                            0.002475   \nม.ต้น (มศ.1-3 หรือ ม.1-3)                         0.002096   \nม.ปลาย (มศ.4-5 หรือ ม.4-6 หรือ ปวช.)              0.000000   \nสูงกว่าปริญญาตรี                                  0.044643   \nอนุบาล/ศูนย์เด็กเล็ก                              0.000000   \nอนุปริญญา หรือเทียบเท่า หรือ ปวส.                 0.000000   \nไม่เคยศึกษา                                       0.000000   \n\n                                      Accommodation_Other  Occupation_Own  \\\nEducation                                                                   \nต่ำกว่าชั้นประถมฯ (ป.4, ป.7, ป.6)                0.018519        7.694444   \nป.ตรี หรือเทียบเท่า                              0.001139        3.061503   \nประถมฯ (ป.4, ป.7, ป.6)                           0.023927        6.074257   \nม.ต้น (มศ.1-3 หรือ ม.1-3)                        0.010482        5.631027   \nม.ปลาย (มศ.4-5 หรือ ม.4-6 หรือ ปวช.)             0.010381        4.252595   \nสูงกว่าปริญญาตรี                                 0.000000        3.178571   \nอนุบาล/ศูนย์เด็กเล็ก                             0.000000        0.000000   \nอนุปริญญา หรือเทียบเท่า หรือ ปวส.                0.003333        0.970000   \nไม่เคยศึกษา                                      0.090909        4.322314   \n\n                                      Occupation_Rent  Occupation_Public  \\\nEducation                                                                  \nต่ำกว่าชั้นประถมฯ (ป.4, ป.7, ป.6)            4.175926           0.000000   \nป.ตรี หรือเทียบเท่า                          0.189066           0.000000   \nประถมฯ (ป.4, ป.7, ป.6)                       0.795380           0.044967   \nม.ต้น (มศ.1-3 หรือ ม.1-3)                    1.941300           0.000000   \nม.ปลาย (มศ.4-5 หรือ ม.4-6 หรือ ปวช.)         0.716263           0.022491   \nสูงกว่าปริญญาตรี                             0.000000           0.044643   \nอนุบาล/ศูนย์เด็กเล็ก                         0.000000           0.000000   \nอนุปริญญา หรือเทียบเท่า หรือ ปวส.            0.120000           0.016667   \nไม่เคยศึกษา                                  0.479339           0.239669   \n\n                                      Occupation_Other  Happiness  \\\nEducation                                                           \nต่ำกว่าชั้นประถมฯ (ป.4, ป.7, ป.6)             0.000000   7.981481   \nป.ตรี หรือเทียบเท่า                           0.035308   8.307517   \nประถมฯ (ป.4, ป.7, ป.6)                        0.166254   8.129125   \nม.ต้น (มศ.1-3 หรือ ม.1-3)                     0.117400   8.123690   \nม.ปลาย (มศ.4-5 หรือ ม.4-6 หรือ ปวช.)          0.100346   8.219723   \nสูงกว่าปริญญาตรี                              0.000000   8.696429   \nอนุบาล/ศูนย์เด็กเล็ก                          0.000000   7.000000   \nอนุปริญญา หรือเทียบเท่า หรือ ปวส.             0.006667   8.336667   \nไม่เคยศึกษา                                   0.743802   8.115702   \n\n                                       Owner_Income     Label  \nEducation                                                      \nต่ำกว่าชั้นประถมฯ (ป.4, ป.7, ป.6)     164989.175926  0.731481  \nป.ตรี หรือเทียบเท่า                   271120.457099  0.036446  \nประถมฯ (ป.4, ป.7, ป.6)                112666.759872  0.739274  \nม.ต้น (มศ.1-3 หรือ ม.1-3)             131310.621244  0.576520  \nม.ปลาย (มศ.4-5 หรือ ม.4-6 หรือ ปวช.)  160230.713215  0.349481  \nสูงกว่าปริญญาตรี                      306125.035714  0.000000  \nอนุบาล/ศูนย์เด็กเล็ก                   84000.000000  1.000000  \nอนุปริญญา หรือเทียบเท่า หรือ ปวส.     210987.153333  0.086667  \nไม่เคยศึกษา                           110298.461629  0.760331  ",
      "text/html": "<div>\n<style scoped>\n    .dataframe tbody tr th:only-of-type {\n        vertical-align: middle;\n    }\n\n    .dataframe tbody tr th {\n        vertical-align: top;\n    }\n\n    .dataframe thead th {\n        text-align: right;\n    }\n</style>\n<table border=\"1\" class=\"dataframe\">\n  <thead>\n    <tr style=\"text-align: right;\">\n      <th></th>\n      <th>Age</th>\n      <th>Elderly</th>\n      <th>Disabled</th>\n      <th>Chronic_Patient</th>\n      <th>Self_Reliance</th>\n      <th>Province_ID</th>\n      <th>Amphur_ID</th>\n      <th>District_Type</th>\n      <th>Main</th>\n      <th>Accommodation_Own</th>\n      <th>Accommodation_Rent</th>\n      <th>Accommodation_Public</th>\n      <th>Accommodation_Other</th>\n      <th>Occupation_Own</th>\n      <th>Occupation_Rent</th>\n      <th>Occupation_Public</th>\n      <th>Occupation_Other</th>\n      <th>Happiness</th>\n      <th>Owner_Income</th>\n      <th>Label</th>\n    </tr>\n    <tr>\n      <th>Education</th>\n      <th></th>\n      <th></th>\n      <th></th>\n      <th></th>\n      <th></th>\n      <th></th>\n      <th></th>\n      <th></th>\n      <th></th>\n      <th></th>\n      <th></th>\n      <th></th>\n      <th></th>\n      <th></th>\n      <th></th>\n      <th></th>\n      <th></th>\n      <th></th>\n      <th></th>\n      <th></th>\n    </tr>\n  </thead>\n  <tbody>\n    <tr>\n      <th>ต่ำกว่าชั้นประถมฯ (ป.4, ป.7, ป.6)</th>\n      <td>62.500000</td>\n      <td>0.0</td>\n      <td>0.0</td>\n      <td>0.0</td>\n      <td>0.0</td>\n      <td>52.972222</td>\n      <td>5302.861111</td>\n      <td>5.462963</td>\n      <td>303987.129630</td>\n      <td>0.546296</td>\n      <td>0.009259</td>\n      <td>0.000000</td>\n      <td>0.018519</td>\n      <td>7.694444</td>\n      <td>4.175926</td>\n      <td>0.000000</td>\n      <td>0.000000</td>\n      <td>7.981481</td>\n      <td>164989.175926</td>\n      <td>0.731481</td>\n    </tr>\n    <tr>\n      <th>ป.ตรี หรือเทียบเท่า</th>\n      <td>45.610478</td>\n      <td>0.0</td>\n      <td>0.0</td>\n      <td>0.0</td>\n      <td>0.0</td>\n      <td>40.876993</td>\n      <td>4092.940774</td>\n      <td>5.143508</td>\n      <td>411908.187927</td>\n      <td>0.462415</td>\n      <td>0.000000</td>\n      <td>0.001139</td>\n      <td>0.001139</td>\n      <td>3.061503</td>\n      <td>0.189066</td>\n      <td>0.000000</td>\n      <td>0.035308</td>\n      <td>8.307517</td>\n      <td>271120.457099</td>\n      <td>0.036446</td>\n    </tr>\n    <tr>\n      <th>ประถมฯ (ป.4, ป.7, ป.6)</th>\n      <td>56.388614</td>\n      <td>0.0</td>\n      <td>0.0</td>\n      <td>0.0</td>\n      <td>0.0</td>\n      <td>52.730198</td>\n      <td>5279.023927</td>\n      <td>5.563531</td>\n      <td>250557.452145</td>\n      <td>0.681931</td>\n      <td>0.014439</td>\n      <td>0.002475</td>\n      <td>0.023927</td>\n      <td>6.074257</td>\n      <td>0.795380</td>\n      <td>0.044967</td>\n      <td>0.166254</td>\n      <td>8.129125</td>\n      <td>112666.759872</td>\n      <td>0.739274</td>\n    </tr>\n    <tr>\n      <th>ม.ต้น (มศ.1-3 หรือ ม.1-3)</th>\n      <td>45.498952</td>\n      <td>0.0</td>\n      <td>0.0</td>\n      <td>0.0</td>\n      <td>0.0</td>\n      <td>55.861635</td>\n      <td>5592.450734</td>\n      <td>5.477987</td>\n      <td>221935.161426</td>\n      <td>0.872117</td>\n      <td>0.000000</td>\n      <td>0.002096</td>\n      <td>0.010482</td>\n      <td>5.631027</td>\n      <td>1.941300</td>\n      <td>0.000000</td>\n      <td>0.117400</td>\n      <td>8.123690</td>\n      <td>131310.621244</td>\n      <td>0.576520</td>\n    </tr>\n    <tr>\n      <th>ม.ปลาย (มศ.4-5 หรือ ม.4-6 หรือ ปวช.)</th>\n      <td>45.671280</td>\n      <td>0.0</td>\n      <td>0.0</td>\n      <td>0.0</td>\n      <td>0.0</td>\n      <td>49.835640</td>\n      <td>4989.224913</td>\n      <td>5.323529</td>\n      <td>272908.650519</td>\n      <td>0.513841</td>\n      <td>0.000000</td>\n      <td>0.000000</td>\n      <td>0.010381</td>\n      <td>4.252595</td>\n      <td>0.716263</td>\n      <td>0.022491</td>\n      <td>0.100346</td>\n      <td>8.219723</td>\n      <td>160230.713215</td>\n      <td>0.349481</td>\n    </tr>\n    <tr>\n      <th>สูงกว่าปริญญาตรี</th>\n      <td>49.339286</td>\n      <td>0.0</td>\n      <td>0.0</td>\n      <td>0.0</td>\n      <td>0.0</td>\n      <td>46.044643</td>\n      <td>4609.651786</td>\n      <td>4.830357</td>\n      <td>520362.767857</td>\n      <td>0.321429</td>\n      <td>0.000000</td>\n      <td>0.044643</td>\n      <td>0.000000</td>\n      <td>3.178571</td>\n      <td>0.000000</td>\n      <td>0.044643</td>\n      <td>0.000000</td>\n      <td>8.696429</td>\n      <td>306125.035714</td>\n      <td>0.000000</td>\n    </tr>\n    <tr>\n      <th>อนุบาล/ศูนย์เด็กเล็ก</th>\n      <td>73.000000</td>\n      <td>0.0</td>\n      <td>0.0</td>\n      <td>0.0</td>\n      <td>0.0</td>\n      <td>20.000000</td>\n      <td>2007.000000</td>\n      <td>6.000000</td>\n      <td>168000.000000</td>\n      <td>0.000000</td>\n      <td>0.000000</td>\n      <td>0.000000</td>\n      <td>0.000000</td>\n      <td>0.000000</td>\n      <td>0.000000</td>\n      <td>0.000000</td>\n      <td>0.000000</td>\n      <td>7.000000</td>\n      <td>84000.000000</td>\n      <td>1.000000</td>\n    </tr>\n    <tr>\n      <th>อนุปริญญา หรือเทียบเท่า หรือ ปวส.</th>\n      <td>39.030000</td>\n      <td>0.0</td>\n      <td>0.0</td>\n      <td>0.0</td>\n      <td>0.0</td>\n      <td>30.773333</td>\n      <td>3081.986667</td>\n      <td>5.553333</td>\n      <td>279428.783333</td>\n      <td>0.183333</td>\n      <td>0.000000</td>\n      <td>0.000000</td>\n      <td>0.003333</td>\n      <td>0.970000</td>\n      <td>0.120000</td>\n      <td>0.016667</td>\n      <td>0.006667</td>\n      <td>8.336667</td>\n      <td>210987.153333</td>\n      <td>0.086667</td>\n    </tr>\n    <tr>\n      <th>ไม่เคยศึกษา</th>\n      <td>57.429752</td>\n      <td>0.0</td>\n      <td>0.0</td>\n      <td>0.0</td>\n      <td>0.0</td>\n      <td>60.611570</td>\n      <td>6067.661157</td>\n      <td>5.735537</td>\n      <td>234451.735537</td>\n      <td>0.950413</td>\n      <td>0.000000</td>\n      <td>0.000000</td>\n      <td>0.090909</td>\n      <td>4.322314</td>\n      <td>0.479339</td>\n      <td>0.239669</td>\n      <td>0.743802</td>\n      <td>8.115702</td>\n      <td>110298.461629</td>\n      <td>0.760331</td>\n    </tr>\n  </tbody>\n</table>\n</div>"
     },
     "metadata": {},
     "execution_count": 11
    }
   ],
   "source": [
    "data.groupby('Education').mean()"
   ]
  },
  {
   "cell_type": "markdown",
   "metadata": {},
   "source": [
    "## Categorizing Columns"
   ]
  },
  {
   "cell_type": "code",
   "execution_count": 12,
   "metadata": {
    "tags": []
   },
   "outputs": [
    {
     "output_type": "stream",
     "name": "stdout",
     "text": "[&#39;Sex_Code&#39; &#39;Age&#39; &#39;Occupation_Code&#39; &#39;Education_Code&#39; &#39;Province_ID&#39;\n &#39;Amphur_ID&#39; &#39;District_Type&#39; &#39;Main&#39; &#39;Accommodation_Own&#39;\n &#39;Accommodation_Rent&#39; &#39;Accommodation_Public&#39; &#39;Accommodation_Other&#39;\n &#39;Accommodation_Doc_Type_Code&#39; &#39;Occupation_Own&#39; &#39;Occupation_Rent&#39;\n &#39;Occupation_Public&#39; &#39;Occupation_Other&#39; &#39;Occupation_Doc_Type_Code&#39;\n &#39;Happiness&#39; &#39;Owner_Income&#39;]\n"
    },
    {
     "output_type": "execute_result",
     "data": {
      "text/plain": "   Sex_Code  Age  Occupation_Code  Education_Code  Province_ID  Amphur_ID  \\\n0         1   43                8               2           34       3407   \n1         1   54                2               7           34       3401   \n2         0   22                6               4           57       5701   \n3         1   49                6               4           71       7105   \n4         0   45                8               2           40       4019   \n\n   District_Type    Main  Accommodation_Own  Accommodation_Rent  \\\n0              6  100000                  0                   0   \n1              3  300000                  0                   0   \n2              6  100000                  1                   0   \n3              5  100000                  0                   0   \n4              5  200000                  0                   0   \n\n   Accommodation_Public  Accommodation_Other  Accommodation_Doc_Type_Code  \\\n0                     0                    0                            8   \n1                     0                    0                            2   \n2                     0                    0                            8   \n3                     0                    0                            0   \n4                     0                    0                            6   \n\n   Occupation_Own  Occupation_Rent  Occupation_Public  Occupation_Other  \\\n0              10                0                  0                 0   \n1               0                0                  0                 0   \n2               0                0                  0                 0   \n3               0                0                  0                 0   \n4              29                0                  0                 0   \n\n   Occupation_Doc_Type_Code  Happiness  Owner_Income  \n0                         8         10      100000.0  \n1                         0         10      100000.0  \n2                         0          9      100000.0  \n3                         0          7      100000.0  \n4                         2          7      100000.0  ",
      "text/html": "<div>\n<style scoped>\n    .dataframe tbody tr th:only-of-type {\n        vertical-align: middle;\n    }\n\n    .dataframe tbody tr th {\n        vertical-align: top;\n    }\n\n    .dataframe thead th {\n        text-align: right;\n    }\n</style>\n<table border=\"1\" class=\"dataframe\">\n  <thead>\n    <tr style=\"text-align: right;\">\n      <th></th>\n      <th>Sex_Code</th>\n      <th>Age</th>\n      <th>Occupation_Code</th>\n      <th>Education_Code</th>\n      <th>Province_ID</th>\n      <th>Amphur_ID</th>\n      <th>District_Type</th>\n      <th>Main</th>\n      <th>Accommodation_Own</th>\n      <th>Accommodation_Rent</th>\n      <th>Accommodation_Public</th>\n      <th>Accommodation_Other</th>\n      <th>Accommodation_Doc_Type_Code</th>\n      <th>Occupation_Own</th>\n      <th>Occupation_Rent</th>\n      <th>Occupation_Public</th>\n      <th>Occupation_Other</th>\n      <th>Occupation_Doc_Type_Code</th>\n      <th>Happiness</th>\n      <th>Owner_Income</th>\n    </tr>\n  </thead>\n  <tbody>\n    <tr>\n      <th>0</th>\n      <td>1</td>\n      <td>43</td>\n      <td>8</td>\n      <td>2</td>\n      <td>34</td>\n      <td>3407</td>\n      <td>6</td>\n      <td>100000</td>\n      <td>0</td>\n      <td>0</td>\n      <td>0</td>\n      <td>0</td>\n      <td>8</td>\n      <td>10</td>\n      <td>0</td>\n      <td>0</td>\n      <td>0</td>\n      <td>8</td>\n      <td>10</td>\n      <td>100000.0</td>\n    </tr>\n    <tr>\n      <th>1</th>\n      <td>1</td>\n      <td>54</td>\n      <td>2</td>\n      <td>7</td>\n      <td>34</td>\n      <td>3401</td>\n      <td>3</td>\n      <td>300000</td>\n      <td>0</td>\n      <td>0</td>\n      <td>0</td>\n      <td>0</td>\n      <td>2</td>\n      <td>0</td>\n      <td>0</td>\n      <td>0</td>\n      <td>0</td>\n      <td>0</td>\n      <td>10</td>\n      <td>100000.0</td>\n    </tr>\n    <tr>\n      <th>2</th>\n      <td>0</td>\n      <td>22</td>\n      <td>6</td>\n      <td>4</td>\n      <td>57</td>\n      <td>5701</td>\n      <td>6</td>\n      <td>100000</td>\n      <td>1</td>\n      <td>0</td>\n      <td>0</td>\n      <td>0</td>\n      <td>8</td>\n      <td>0</td>\n      <td>0</td>\n      <td>0</td>\n      <td>0</td>\n      <td>0</td>\n      <td>9</td>\n      <td>100000.0</td>\n    </tr>\n    <tr>\n      <th>3</th>\n      <td>1</td>\n      <td>49</td>\n      <td>6</td>\n      <td>4</td>\n      <td>71</td>\n      <td>7105</td>\n      <td>5</td>\n      <td>100000</td>\n      <td>0</td>\n      <td>0</td>\n      <td>0</td>\n      <td>0</td>\n      <td>0</td>\n      <td>0</td>\n      <td>0</td>\n      <td>0</td>\n      <td>0</td>\n      <td>0</td>\n      <td>7</td>\n      <td>100000.0</td>\n    </tr>\n    <tr>\n      <th>4</th>\n      <td>0</td>\n      <td>45</td>\n      <td>8</td>\n      <td>2</td>\n      <td>40</td>\n      <td>4019</td>\n      <td>5</td>\n      <td>200000</td>\n      <td>0</td>\n      <td>0</td>\n      <td>0</td>\n      <td>0</td>\n      <td>6</td>\n      <td>29</td>\n      <td>0</td>\n      <td>0</td>\n      <td>0</td>\n      <td>2</td>\n      <td>7</td>\n      <td>100000.0</td>\n    </tr>\n  </tbody>\n</table>\n</div>"
     },
     "metadata": {},
     "execution_count": 12
    }
   ],
   "source": [
    "data['Sex'] = data['Sex'].astype('category')\n",
    "data['Sex_Code'] = data['Sex'].cat.codes\n",
    "data['Occupation'] = data['Occupation'].astype('category')\n",
    "data['Occupation_Code'] = data['Occupation'].cat.codes\n",
    "data['Education'] = data['Education'].astype('category')\n",
    "data['Education_Code'] = data['Education'].cat.codes\n",
    "data['Occupation_Doc_Type'] = data['Occupation_Doc_Type'].astype('category')\n",
    "data['Occupation_Doc_Type_Code'] = data['Occupation_Doc_Type'].cat.codes\n",
    "data['Accommodation_Doc_Type'] = data['Accommodation_Doc_Type'].astype('category')\n",
    "data['Accommodation_Doc_Type_Code'] = data['Accommodation_Doc_Type'].cat.codes\n",
    "\n",
    "parameters = ['Sex_Code','Age','Occupation_Code','Education_Code','Province_ID','Amphur_ID','District_Type','Main','Accommodation_Own','Accommodation_Rent','Accommodation_Public','Accommodation_Other','Accommodation_Doc_Type_Code','Occupation_Own','Occupation_Rent','Occupation_Public','Occupation_Other','Occupation_Doc_Type_Code','Happiness','Owner_Income']\n",
    "\n",
    "adjusted_data = data[parameters]\n",
    "adjusted_label = data[['Label']]\n",
    "\n",
    "print(adjusted_data.columns.values)\n",
    "adjusted_data.head()\n"
   ]
  },
  {
   "cell_type": "code",
   "execution_count": 13,
   "metadata": {
    "tags": []
   },
   "outputs": [
    {
     "output_type": "stream",
     "name": "stdout",
     "text": "[False False False False False False  True False False  True False False\n False False False False False False False False]\n[ 5 13  4  6 16 17  1 19 11  1  3  7 10 14 15  2  8 12  9 18]\n"
    }
   ],
   "source": [
    "from sklearn.feature_selection import RFE\n",
    "from sklearn.linear_model import LogisticRegression\n",
    "from sklearn.model_selection import train_test_split\n",
    "\n",
    "train_data, test_data, train_label, test_label = train_test_split(\n",
    "    adjusted_data, \n",
    "    adjusted_label,\n",
    "    test_size=0.25, \n",
    "    random_state = 1972)\n",
    "\n",
    "model = LogisticRegression()\n",
    "rfe = RFE(model, 2)\n",
    "rfe = rfe.fit(train_data, train_label)\n",
    "print(rfe.support_)\n",
    "print(rfe.ranking_)"
   ]
  },
  {
   "cell_type": "code",
   "execution_count": 14,
   "metadata": {},
   "outputs": [],
   "source": [
    "parameters\n",
    "impacted_param = [\n",
    "    'Sex_Code',\n",
    "    'Age',\n",
    "    'Occupation_Code',\n",
    "    'Education_Code',\n",
    "    'Province_ID',\n",
    "    'Amphur_ID',\n",
    "    'District_Type',\n",
    "    'Main',\n",
    "    'Accommodation_Own',\n",
    "    'Accommodation_Rent',\n",
    "    'Accommodation_Public',\n",
    "    'Accommodation_Other',\n",
    "    'Accommodation_Doc_Type_Code',\n",
    "    'Occupation_Own',\n",
    "    'Occupation_Rent',\n",
    "    'Occupation_Public',\n",
    "    'Occupation_Other',\n",
    "    'Occupation_Doc_Type_Code',\n",
    "    'Happiness',\n",
    "    'Owner_Income']\n",
    "\n",
    "X = train_data[impacted_param]\n",
    "y = train_label"
   ]
  },
  {
   "cell_type": "code",
   "execution_count": 16,
   "metadata": {
    "tags": []
   },
   "outputs": [
    {
     "output_type": "stream",
     "name": "stdout",
     "text": "Optimization terminated successfully.\n         Current function value: 0.042608\n         Iterations 15\n                               Results: Logit\n=============================================================================\nModel:                    Logit                Pseudo R-squared:     0.939   \nDependent Variable:       Label                AIC:                  359.4762\nDate:                     2020-10-06 22:24     BIC:                  484.0611\nNo. Observations:         3749                 Log-Likelihood:       -159.74 \nDf Model:                 19                   LL-Null:              -2598.5 \nDf Residuals:             3729                 LLR p-value:          0.0000  \nConverged:                1.0000               Scale:                1.0000  \nNo. Iterations:           15.0000                                            \n-----------------------------------------------------------------------------\n                             Coef.  Std.Err.    z     P&gt;|z|   [0.025   0.975]\n-----------------------------------------------------------------------------\nSex_Code                     0.8008   0.2983   2.6844 0.0073   0.2161  1.3855\nAge                          0.1013   0.0132   7.6601 0.0000   0.0754  0.1272\nOccupation_Code              0.0562   0.0515   1.0914 0.2751  -0.0447  0.1570\nEducation_Code               0.3513   0.1080   3.2513 0.0011   0.1395  0.5630\nProvince_ID                 -2.0152   2.7584  -0.7306 0.4650  -7.4216  3.3911\nAmphur_ID                    0.0204   0.0276   0.7401 0.4592  -0.0337  0.0745\nDistrict_Type                2.6223   0.2507  10.4594 0.0000   2.1309  3.1137\nMain                        -0.0000   0.0000  -2.7829 0.0054  -0.0000 -0.0000\nAccommodation_Own           -0.2250   0.0611  -3.6826 0.0002  -0.3448 -0.1053\nAccommodation_Rent           1.3394  15.7253   0.0852 0.9321 -29.4816 32.1604\nAccommodation_Public         8.4768  10.4798   0.8089 0.4186 -12.0632 29.0168\nAccommodation_Other         -0.0895   0.3788  -0.2362 0.8133  -0.8318  0.6529\nAccommodation_Doc_Type_Code  0.1366   0.0559   2.4415 0.0146   0.0269  0.2462\nOccupation_Own              -0.0241   0.0170  -1.4193 0.1558  -0.0575  0.0092\nOccupation_Rent             -0.0223   0.0332  -0.6695 0.5032  -0.0874  0.0429\nOccupation_Public            0.8201   9.6609   0.0849 0.9324 -18.1150 19.7552\nOccupation_Other             0.2281   0.1982   1.1509 0.2498  -0.1603  0.6164\nOccupation_Doc_Type_Code    -0.0178   0.0509  -0.3502 0.7262  -0.1176  0.0819\nHappiness                    1.4314   0.1423  10.0596 0.0000   1.1525  1.7103\nOwner_Income                -0.0003   0.0000 -12.8822 0.0000  -0.0004 -0.0003\n=============================================================================\n\n"
    }
   ],
   "source": [
    "import statsmodels.api as sm\n",
    "\n",
    "logit_model = sm.Logit(y, X)\n",
    "result = logit_model.fit()\n",
    "print(result.summary2())"
   ]
  }
 ]
}