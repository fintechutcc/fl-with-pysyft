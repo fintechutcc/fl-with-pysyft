{
 "metadata": {
  "language_info": {
   "codemirror_mode": {
    "name": "ipython",
    "version": 3
   },
   "file_extension": ".py",
   "mimetype": "text/x-python",
   "name": "python",
   "nbconvert_exporter": "python",
   "pygments_lexer": "ipython3",
   "version": "3.7.9-final"
  },
  "orig_nbformat": 2,
  "kernelspec": {
   "name": "python_defaultSpec_1601722248208",
   "display_name": "Python 3.7.9 64-bit ('pysyft': conda)"
  }
 },
 "nbformat": 4,
 "nbformat_minor": 2,
 "cells": [
  {
   "source": [
    "# Data Node\n",
    "## Data Exploration"
   ],
   "cell_type": "markdown",
   "metadata": {}
  },
  {
   "cell_type": "code",
   "execution_count": null,
   "metadata": {},
   "outputs": [],
   "source": [
    "import pandas as pd \n",
    "\n",
    "df = pd.read_csv('data/data_welfare.csv')\n",
    "df.head()"
   ]
  },
  {
   "cell_type": "code",
   "execution_count": null,
   "metadata": {
    "tags": []
   },
   "outputs": [],
   "source": [
    "X_Columns = ['Age', 'Owner_Income']\n",
    "X = df[X_Columns]\n",
    "X = X.astype(np.float)\n",
    "\n",
    "print('Age(avg): ', X['Age'].mean(), ', Age(std): ', X['Age'].std())\n",
    "print('Income(avg): ', X['Owner_Income'].mean(), ', Income(std): ', X['Age'].std())\n",
    "\n",
    "x_tensor = torch.tensor(X.values, dtype=torch.float32)\n",
    "x_tensor"
   ]
  },
  {
   "cell_type": "code",
   "execution_count": null,
   "metadata": {},
   "outputs": [],
   "source": [
    "import numpy as np \n",
    "y_Column = ['Label']\n",
    "y = df[y_Column]\n",
    "y = y.astype(np.float)\n"
   ]
  },
  {
   "cell_type": "code",
   "execution_count": null,
   "metadata": {
    "tags": []
   },
   "outputs": [],
   "source": [
    "import torch\n",
    "from syft.workers.websocket_server import WebsocketServerWorker\n",
    "import syft as sy\n",
    "\n",
    "data = torch.tensor(X.values, dtype=torch.float32, requires_grad=True)\n",
    "target = torch.tensor(y.values, dtype=torch.float32, requires_grad=False)"
   ]
  },
  {
   "cell_type": "code",
   "execution_count": null,
   "metadata": {},
   "outputs": [],
   "source": [
    "data"
   ]
  },
  {
   "cell_type": "code",
   "execution_count": null,
   "metadata": {},
   "outputs": [],
   "source": [
    "target"
   ]
  },
  {
   "cell_type": "code",
   "execution_count": null,
   "metadata": {},
   "outputs": [],
   "source": [
    "target.view(target.shape)"
   ]
  },
  {
   "source": [
    "## Prepare the Data Node"
   ],
   "cell_type": "markdown",
   "metadata": {}
  },
  {
   "cell_type": "code",
   "execution_count": null,
   "metadata": {
    "tags": []
   },
   "outputs": [],
   "source": [
    "hook = sy.TorchHook(torch)\n",
    "kwargs = {\n",
    "        \"id\": \"data_node\",\n",
    "        \"host\": \"10.7.3.34\",\n",
    "        \"port\": 8777,\n",
    "        \"hook\": hook,\n",
    "        \"verbose\": True,\n",
    "    }\n",
    "worker = WebsocketServerWorker(**kwargs)\n",
    "\n",
    "dataset = sy.BaseDataset(data, target)\n",
    "worker.add_dataset(dataset, key=\"welfare\")"
   ]
  },
  {
   "cell_type": "code",
   "execution_count": null,
   "metadata": {},
   "outputs": [],
   "source": []
  }
 ]
}