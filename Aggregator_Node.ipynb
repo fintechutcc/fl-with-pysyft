{
 "cells": [
  {
   "cell_type": "code",
   "execution_count": 1,
   "metadata": {
    "tags": []
   },
   "outputs": [
    {
     "output_type": "stream",
     "name": "stderr",
     "text": [
      "Falling back to insecure randomness since the required custom op could not be found for the installed version of TensorFlow. Fix this by compiling custom ops. Missing file was '/home/suparerk/anaconda3/envs/pysyft/lib/python3.7/site-packages/tf_encrypted/operations/secure_random/secure_random_module_tf_1.15.4.so'\n",
      "WARNING:tensorflow:From /home/suparerk/anaconda3/envs/pysyft/lib/python3.7/site-packages/tf_encrypted/session.py:24: The name tf.Session is deprecated. Please use tf.compat.v1.Session instead.\n",
      "\n"
     ]
    }
   ],
   "source": [
    "import sys\n",
    "import argparse\n",
    "import torch\n",
    "import torch.nn.functional as F\n",
    "from torch import nn\n",
    "from torch import optim\n",
    "import syft as sy\n",
    "from syft import workers"
   ]
  },
  {
   "cell_type": "code",
   "execution_count": 2,
   "metadata": {
    "tags": []
   },
   "outputs": [
    {
     "output_type": "stream",
     "name": "stdout",
     "text": [
      "ประมวลผลโดยใช้ cpu\n"
     ]
    }
   ],
   "source": [
    "use_cuda = torch.cuda.is_available()\n",
    "torch.manual_seed(1)\n",
    "device = torch.device(\"cuda\" if use_cuda else \"cpu\")\n",
    "print('ประมวลผลโดยใช้ ' + str(device))"
   ]
  },
  {
   "cell_type": "code",
   "execution_count": 3,
   "metadata": {
    "tags": []
   },
   "outputs": [],
   "source": [
    "hook = sy.TorchHook(torch)\n",
    "\n",
    "class Net(torch.nn.Module):\n",
    "    def __init__(self):\n",
    "        super(Net, self).__init__()\n",
    "        self.fc1 = nn.Linear(2, 20)\n",
    "        self.fc2 = nn.Linear(20, 10)\n",
    "        self.fc3 = nn.Linear(10, 1)\n",
    "        \n",
    "    def forward(self, x):\n",
    "        x = F.relu(self.fc1(x))\n",
    "        x = F.relu(self.fc2(x))\n",
    "        x = self.fc3(x)\n",
    "        return x\n",
    "    \n",
    "\n",
    "# แบบจำลองเป็น Neural Network\n",
    "model = Net()\n",
    "\n",
    "# จำลองข้อมูลที่ฝั่ง Aggregator_Node เพื่อใช้สร้าง TrainConfig\n",
    "# ไม่มีผลต่อการคำนวณ เนื่องข้อมูลอยู่ใน Data_Node\n",
    "mock_data = torch.zeros(1, 2)\n",
    "\n",
    "# Serialization: สร้าง Traced_Model เป็น jit เพื่อให้สามารถส่งไปรันที่ Data_Node\n",
    "traced_model = torch.jit.trace(model, mock_data)\n",
    "\n",
    "# ใช้ Stochastic Gradient Descent\n",
    "optimizer = \"SGD\"\n",
    "\n",
    "# สร้าง Loss Function เป็น jit เพื่อให้สามารถส่งไปรันที่ Data_Node\n",
    "@torch.jit.script\n",
    "def loss_fn(target, pred):\n",
    "    return ((target.view(pred.shape).float() - pred.float()) ** 2).mean()\n",
    "\n",
    "\n",
    "# Hyperparameters\n",
    "batch_size = 4\n",
    "optimizer_args = {\"lr\" : 0.01, \"weight_decay\" : 0.01}\n",
    "epochs = 1\n",
    "max_nr_batches = -1\n",
    "shuffle = True"
   ]
  },
  {
   "cell_type": "code",
   "execution_count": null,
   "metadata": {
    "tags": []
   },
   "outputs": [],
   "source": [
    "# TrainConfig \n",
    "train_config = sy.TrainConfig(model=traced_model,\n",
    "                              loss_fn=loss_fn,\n",
    "                              optimizer=optimizer,\n",
    "                              batch_size=batch_size,\n",
    "                              optimizer_args=optimizer_args,\n",
    "                              epochs=epochs,\n",
    "                              shuffle=shuffle)\n",
    "\n",
    "# Must change the host IP address!!!\n",
    "kwargs_websocket = {\"host\": \"10.7.3.34\", \"hook\": hook, \"verbose\": True}\n",
    "data_node = sy.workers.websocket_client.WebsocketClientWorker(\n",
    "    id=\"data_node\", \n",
    "    port=8777, \n",
    "    **kwargs_websocket)\n",
    "\n",
    "train_config.send(data_node)\n",
    "\n",
    "for epoch in range(10):\n",
    "    loss = data_node.fit(dataset_key=\"welfare\")\n",
    "    print(\"-\" * 50)\n",
    "    print(\"Iteration %s: Data_Node's loss: %s\" % (epoch, loss))\n",
    "\n",
    "new_model = train_config.model_ptr.get()"
   ]
  },
  {
   "cell_type": "code",
   "execution_count": 5,
   "metadata": {
    "tags": []
   },
   "outputs": [
    {
     "output_type": "execute_result",
     "data": {
      "text/plain": [
       "  Sex  Age     Occupation                             Education  Elderly  \\\n",
       "0   ช   44  ธุรกิจส่วนตัว                   ป.ตรี หรือเทียบเท่า        0   \n",
       "1   ญ   49     เกษตร-ทำนา     ต่ำกว่าชั้นประถมฯ (ป.4, ป.7, ป.6)        0   \n",
       "2   ช   41         ค้าขาย                   ป.ตรี หรือเทียบเท่า        0   \n",
       "3   ช   59         ค้าขาย                ประถมฯ (ป.4, ป.7, ป.6)        0   \n",
       "4   ญ   46     เกษตร-ทำนา  ม.ปลาย (มศ.4-5 หรือ ม.4-6 หรือ ปวช.)        0   \n",
       "\n",
       "   Disabled  Chronic_Patient  Self_Reliance  Province_ID  Amphur_ID  ...  \\\n",
       "0         0                0              0           73       7303  ...   \n",
       "1         0                0              0           44       4408  ...   \n",
       "2         0                0              0           71       7110  ...   \n",
       "3         0                0              0           71       7105  ...   \n",
       "4         0                0              0           71       7106  ...   \n",
       "\n",
       "                              Accommodation_Doc_Type  Occupation_Own  \\\n",
       "0  โฉนดที่ดิน (น.ส.4, น.ส.4 ก, น.ส.4 ข, น.ส.4 ค, ...               5   \n",
       "1  โฉนดที่ดิน (น.ส.4, น.ส.4 ก, น.ส.4 ข, น.ส.4 ค, ...               0   \n",
       "2                 สิทธิในการทำเกษตรกรรม (ส.ป.ก.4-01)               0   \n",
       "3                                                  0               0   \n",
       "4  โฉนดที่ดิน (น.ส.4, น.ส.4 ก, น.ส.4 ข, น.ส.4 ค, ...               5   \n",
       "\n",
       "   Occupation_Rent  Occupation_Public  Occupation_Other  \\\n",
       "0                0                  0                 0   \n",
       "1                0                  0                 0   \n",
       "2                0                  0                 0   \n",
       "3                0                  0                 0   \n",
       "4                0                  0                 0   \n",
       "\n",
       "   Occupation_Other_Name                                Occupation_Doc_Type  \\\n",
       "0                      0  โฉนดที่ดิน (น.ส.4, น.ส.4 ก, น.ส.4 ข, น.ส.4 ค, ...   \n",
       "1                      0                                                  0   \n",
       "2                      0                                                  0   \n",
       "3                      0                                                  0   \n",
       "4                      0  โฉนดที่ดิน (น.ส.4, น.ส.4 ก, น.ส.4 ข, น.ส.4 ค, ...   \n",
       "\n",
       "  Happiness  Owner_Income  Label  \n",
       "0         8    10200000.0      0  \n",
       "1         8     5464000.0      0  \n",
       "2         7     2000000.0      0  \n",
       "3         9     1800000.0      0  \n",
       "4         7     1700000.0      0  \n",
       "\n",
       "[5 rows x 27 columns]"
      ],
      "text/html": "<div>\n<style scoped>\n    .dataframe tbody tr th:only-of-type {\n        vertical-align: middle;\n    }\n\n    .dataframe tbody tr th {\n        vertical-align: top;\n    }\n\n    .dataframe thead th {\n        text-align: right;\n    }\n</style>\n<table border=\"1\" class=\"dataframe\">\n  <thead>\n    <tr style=\"text-align: right;\">\n      <th></th>\n      <th>Sex</th>\n      <th>Age</th>\n      <th>Occupation</th>\n      <th>Education</th>\n      <th>Elderly</th>\n      <th>Disabled</th>\n      <th>Chronic_Patient</th>\n      <th>Self_Reliance</th>\n      <th>Province_ID</th>\n      <th>Amphur_ID</th>\n      <th>...</th>\n      <th>Accommodation_Doc_Type</th>\n      <th>Occupation_Own</th>\n      <th>Occupation_Rent</th>\n      <th>Occupation_Public</th>\n      <th>Occupation_Other</th>\n      <th>Occupation_Other_Name</th>\n      <th>Occupation_Doc_Type</th>\n      <th>Happiness</th>\n      <th>Owner_Income</th>\n      <th>Label</th>\n    </tr>\n  </thead>\n  <tbody>\n    <tr>\n      <th>0</th>\n      <td>ช</td>\n      <td>44</td>\n      <td>ธุรกิจส่วนตัว</td>\n      <td>ป.ตรี หรือเทียบเท่า</td>\n      <td>0</td>\n      <td>0</td>\n      <td>0</td>\n      <td>0</td>\n      <td>73</td>\n      <td>7303</td>\n      <td>...</td>\n      <td>โฉนดที่ดิน (น.ส.4, น.ส.4 ก, น.ส.4 ข, น.ส.4 ค, ...</td>\n      <td>5</td>\n      <td>0</td>\n      <td>0</td>\n      <td>0</td>\n      <td>0</td>\n      <td>โฉนดที่ดิน (น.ส.4, น.ส.4 ก, น.ส.4 ข, น.ส.4 ค, ...</td>\n      <td>8</td>\n      <td>10200000.0</td>\n      <td>0</td>\n    </tr>\n    <tr>\n      <th>1</th>\n      <td>ญ</td>\n      <td>49</td>\n      <td>เกษตร-ทำนา</td>\n      <td>ต่ำกว่าชั้นประถมฯ (ป.4, ป.7, ป.6)</td>\n      <td>0</td>\n      <td>0</td>\n      <td>0</td>\n      <td>0</td>\n      <td>44</td>\n      <td>4408</td>\n      <td>...</td>\n      <td>โฉนดที่ดิน (น.ส.4, น.ส.4 ก, น.ส.4 ข, น.ส.4 ค, ...</td>\n      <td>0</td>\n      <td>0</td>\n      <td>0</td>\n      <td>0</td>\n      <td>0</td>\n      <td>0</td>\n      <td>8</td>\n      <td>5464000.0</td>\n      <td>0</td>\n    </tr>\n    <tr>\n      <th>2</th>\n      <td>ช</td>\n      <td>41</td>\n      <td>ค้าขาย</td>\n      <td>ป.ตรี หรือเทียบเท่า</td>\n      <td>0</td>\n      <td>0</td>\n      <td>0</td>\n      <td>0</td>\n      <td>71</td>\n      <td>7110</td>\n      <td>...</td>\n      <td>สิทธิในการทำเกษตรกรรม (ส.ป.ก.4-01)</td>\n      <td>0</td>\n      <td>0</td>\n      <td>0</td>\n      <td>0</td>\n      <td>0</td>\n      <td>0</td>\n      <td>7</td>\n      <td>2000000.0</td>\n      <td>0</td>\n    </tr>\n    <tr>\n      <th>3</th>\n      <td>ช</td>\n      <td>59</td>\n      <td>ค้าขาย</td>\n      <td>ประถมฯ (ป.4, ป.7, ป.6)</td>\n      <td>0</td>\n      <td>0</td>\n      <td>0</td>\n      <td>0</td>\n      <td>71</td>\n      <td>7105</td>\n      <td>...</td>\n      <td>0</td>\n      <td>0</td>\n      <td>0</td>\n      <td>0</td>\n      <td>0</td>\n      <td>0</td>\n      <td>0</td>\n      <td>9</td>\n      <td>1800000.0</td>\n      <td>0</td>\n    </tr>\n    <tr>\n      <th>4</th>\n      <td>ญ</td>\n      <td>46</td>\n      <td>เกษตร-ทำนา</td>\n      <td>ม.ปลาย (มศ.4-5 หรือ ม.4-6 หรือ ปวช.)</td>\n      <td>0</td>\n      <td>0</td>\n      <td>0</td>\n      <td>0</td>\n      <td>71</td>\n      <td>7106</td>\n      <td>...</td>\n      <td>โฉนดที่ดิน (น.ส.4, น.ส.4 ก, น.ส.4 ข, น.ส.4 ค, ...</td>\n      <td>5</td>\n      <td>0</td>\n      <td>0</td>\n      <td>0</td>\n      <td>0</td>\n      <td>โฉนดที่ดิน (น.ส.4, น.ส.4 ก, น.ส.4 ข, น.ส.4 ค, ...</td>\n      <td>7</td>\n      <td>1700000.0</td>\n      <td>0</td>\n    </tr>\n  </tbody>\n</table>\n<p>5 rows × 27 columns</p>\n</div>"
     },
     "metadata": {},
     "execution_count": 5
    }
   ],
   "source": [
    "# Testing\n",
    "import pandas as pd \n",
    "import numpy as np \n",
    "df = pd.read_csv('test_data/welfare_test_data.csv')\n",
    "df.head()"
   ]
  },
  {
   "cell_type": "code",
   "execution_count": 6,
   "metadata": {},
   "outputs": [],
   "source": [
    "X_Columns = ['Age', 'Owner_Income']\n",
    "X = df[X_Columns]\n",
    "X = X.astype(np.float)\n",
    "X['Age'] = (X['Age'] - 51.178235647129426) / 13.711646221534574\n",
    "X['Owner_Income'] = (X['Owner_Income'] - 159077.33560521627) / 13.711646221534574\n",
    "test_data = torch.tensor(X.values, dtype=torch.float32, requires_grad=True)"
   ]
  },
  {
   "cell_type": "code",
   "execution_count": 7,
   "metadata": {},
   "outputs": [],
   "source": [
    "y_Column = ['Label']\n",
    "y = df[y_Column]\n",
    "y = y.astype(np.float)\n",
    "target = torch.tensor(y.values, dtype=torch.float32, requires_grad=False)"
   ]
  },
  {
   "cell_type": "code",
   "execution_count": 8,
   "metadata": {
    "tags": []
   },
   "outputs": [
    {
     "output_type": "stream",
     "name": "stdout",
     "text": [
      "\nEvaluation after training:\nAccuracy: 100.0%\n"
     ]
    }
   ],
   "source": [
    "print(\"\\nEvaluation after training:\")\n",
    "pred = new_model(test_data)\n",
    "prediction = torch.tensor(np.where(pred > 0.5, 1., 0.))\n",
    "loss = loss_fn(target=target, pred=prediction)\n",
    "print(\"Accuracy: {}%\".format((1. - loss)*100.))\n",
    "#print(\"Target: {}\".format(target))\n",
    "#print(\"Pred: {}\".format(prediction))\n"
   ]
  },
  {
   "source": [
    "## What are inside the model?"
   ],
   "cell_type": "markdown",
   "metadata": {}
  },
  {
   "cell_type": "code",
   "execution_count": 9,
   "metadata": {},
   "outputs": [
    {
     "output_type": "execute_result",
     "data": {
      "text/plain": [
       "OrderedDict([('fc1.weight',\n",
       "              tensor([[ 3.6045e-02, -8.0472e-01],\n",
       "                      [-5.5494e-02,  7.1364e-02],\n",
       "                      [-1.7582e-01,  5.7763e-02],\n",
       "                      [-2.3145e-02,  2.9227e-02],\n",
       "                      [ 2.8088e-02, -2.4797e-02],\n",
       "                      [ 4.0307e-02,  1.3908e-02],\n",
       "                      [ 8.3561e-02, -8.5901e-02],\n",
       "                      [-1.2106e-02, -6.4614e-03],\n",
       "                      [ 2.7741e-02, -9.1469e-04],\n",
       "                      [ 1.8237e-01,  1.2854e-01],\n",
       "                      [-9.7668e-02, -1.2634e-01],\n",
       "                      [-7.8994e-02, -1.6222e-01],\n",
       "                      [-3.3402e-02,  2.5530e-02],\n",
       "                      [ 1.1022e-01,  1.4403e-01],\n",
       "                      [-1.8312e-01,  3.0588e-02],\n",
       "                      [ 6.1730e-02,  1.7657e-01],\n",
       "                      [-6.1536e-03, -1.0978e+00],\n",
       "                      [-1.9404e-01, -1.2074e-01],\n",
       "                      [ 1.5983e-01,  4.2633e-02],\n",
       "                      [-1.2802e-03, -5.0820e-01]])),\n",
       "             ('fc1.bias',\n",
       "              tensor([ 0.0409, -0.0787,  0.1263, -0.0070, -0.1067,  0.0878, -0.0997,  0.0749,\n",
       "                      -0.0593,  0.0193, -0.1835, -0.0215,  0.1311, -0.0389,  0.1986,  0.1933,\n",
       "                      -0.0592, -0.1341,  0.1288, -0.0266])),\n",
       "             ('fc2.weight',\n",
       "              tensor([[ 9.3100e-02,  3.6566e-02, -2.9773e-02,  4.2764e-02, -3.5908e-02,\n",
       "                       -8.8116e-03,  1.7978e-03,  4.4549e-03, -4.8448e-02, -4.7400e-02,\n",
       "                        3.6750e-02, -6.3116e-04,  7.7457e-03, -1.1753e-03, -4.9379e-02,\n",
       "                       -3.8976e-02,  1.8970e-01,  4.4825e-02, -4.0384e-02,  1.1506e-01],\n",
       "                      [-6.4694e-02, -4.6464e-02, -3.5689e-04, -1.2889e-02,  3.7624e-02,\n",
       "                       -4.3086e-02, -5.7169e-02,  4.3727e-02, -9.4827e-03,  3.7692e-02,\n",
       "                        2.0645e-02, -4.8747e-02,  9.5753e-03,  2.0737e-02, -4.9372e-02,\n",
       "                       -3.3207e-02,  1.4835e-02,  1.0924e-02, -3.6551e-02, -2.6470e-02],\n",
       "                      [ 4.4018e-01, -6.4119e-03, -1.6385e-02,  2.7374e-02, -4.1405e-02,\n",
       "                       -4.2507e-02,  6.9613e-02,  1.0473e-02,  4.4259e-02, -3.7852e-02,\n",
       "                        2.5372e-02,  8.2474e-02,  4.8160e-02, -6.5068e-02, -2.3564e-02,\n",
       "                       -6.3805e-02,  5.1461e-01,  9.1357e-02, -3.5089e-02,  1.8073e-01],\n",
       "                      [ 1.5519e-01,  7.5216e-02,  6.0502e-02,  1.1205e-02,  3.4139e-02,\n",
       "                       -7.3929e-04, -5.6136e-02, -5.6048e-03,  3.7051e-02,  1.0726e-01,\n",
       "                       -3.7524e-02,  2.6434e-02,  4.9674e-02,  1.1942e-01,  5.1488e-02,\n",
       "                        1.3472e-01,  2.9367e-01,  2.7912e-02,  1.4760e-02,  7.5467e-02],\n",
       "                      [-2.1887e-02, -9.6588e-03, -3.9346e-02,  2.2998e-02,  1.9826e-02,\n",
       "                       -7.6847e-03,  2.3880e-02,  2.3129e-02,  3.9114e-02,  4.6780e-02,\n",
       "                       -2.1694e-02,  6.2672e-02, -4.3934e-03, -2.6517e-03, -5.6407e-02,\n",
       "                       -3.3074e-02, -5.1578e-02, -2.7375e-02,  5.7284e-02, -2.2012e-02],\n",
       "                      [-5.1773e-02, -5.4575e-02, -5.6994e-02, -4.0040e-02, -3.3149e-02,\n",
       "                        3.2971e-03, -2.3774e-02, -1.4922e-02, -5.1077e-02, -6.5171e-02,\n",
       "                       -1.9733e-02,  2.7314e-02,  1.6096e-02, -6.6713e-02, -2.7942e-02,\n",
       "                       -6.3185e-02,  3.8100e-02, -1.2750e-03, -3.5976e-02,  4.6156e-02],\n",
       "                      [-4.5824e-02, -5.1541e-03, -5.3712e-02, -1.2708e-02, -4.1318e-02,\n",
       "                        5.2787e-02, -5.5447e-02, -5.2529e-02, -2.1687e-03, -3.7235e-02,\n",
       "                        2.2563e-02, -2.5117e-02, -3.2529e-02,  3.2665e-03,  4.6684e-02,\n",
       "                       -4.8108e-02, -2.5256e-03,  3.9463e-02,  4.9957e-02, -6.3502e-02],\n",
       "                      [ 4.8268e-01, -6.7282e-02,  1.0635e-03, -4.7757e-02,  3.8592e-02,\n",
       "                        7.9281e-03,  4.6940e-03,  8.9930e-03,  1.1201e-02, -5.2889e-02,\n",
       "                        1.6231e-02,  6.5044e-02, -6.1154e-02, -1.4811e-02,  2.4668e-02,\n",
       "                       -1.2808e-01,  6.3582e-01,  2.8089e-02, -2.1524e-02,  3.3509e-01],\n",
       "                      [-3.4161e-01,  3.6324e-02,  1.9245e-02, -3.8712e-02,  3.1316e-02,\n",
       "                       -1.7251e-02, -2.5161e-02,  6.3634e-02,  5.0390e-02,  5.2016e-02,\n",
       "                       -1.9431e-02, -9.0882e-02,  9.7659e-02, -4.4179e-02,  5.9827e-02,\n",
       "                        1.3221e-01, -5.7258e-01, -1.9911e-02,  6.8477e-02, -2.7434e-01],\n",
       "                      [-5.1619e-02, -2.7792e-03,  2.7738e-02,  2.0871e-04, -3.2484e-02,\n",
       "                        2.8025e-03, -6.0198e-02, -4.5012e-02, -4.2638e-02,  5.8226e-02,\n",
       "                        5.6716e-02, -2.1155e-02,  3.1029e-03,  3.3889e-02,  9.0749e-03,\n",
       "                       -2.4287e-02,  3.7588e-02,  3.9904e-02, -5.4243e-04, -7.5792e-03]])),\n",
       "             ('fc2.bias',\n",
       "              tensor([ 0.0240,  0.0263, -0.0183,  0.0992,  0.0390, -0.0331,  0.0278, -0.0122,\n",
       "                       0.2447, -0.0390])),\n",
       "             ('fc3.weight',\n",
       "              tensor([[ 0.2536,  0.0477,  0.6996,  0.3493, -0.0624,  0.2373, -0.0842,  0.8771,\n",
       "                       -0.7671,  0.0247]])),\n",
       "             ('fc3.bias', tensor([0.1788]))])"
      ]
     },
     "metadata": {},
     "execution_count": 9
    }
   ],
   "source": [
    "new_model.obj.state_dict()"
   ]
  },
  {
   "source": [
    "## Save and load model state"
   ],
   "cell_type": "markdown",
   "metadata": {}
  },
  {
   "cell_type": "code",
   "execution_count": 10,
   "metadata": {},
   "outputs": [],
   "source": [
    "torch.save(new_model.obj.state_dict(), 'welfare.model')"
   ]
  },
  {
   "cell_type": "code",
   "execution_count": 11,
   "metadata": {},
   "outputs": [
    {
     "output_type": "execute_result",
     "data": {
      "text/plain": [
       "Net(\n",
       "  (fc1): Linear(in_features=2, out_features=20, bias=True)\n",
       "  (fc2): Linear(in_features=20, out_features=10, bias=True)\n",
       "  (fc3): Linear(in_features=10, out_features=1, bias=True)\n",
       ")"
      ]
     },
     "metadata": {},
     "execution_count": 11
    }
   ],
   "source": [
    "loaded_model = Net()\n",
    "loaded_model.load_state_dict(torch.load('welfare.model'))\n",
    "loaded_model.eval()"
   ]
  },
  {
   "cell_type": "code",
   "execution_count": null,
   "metadata": {},
   "outputs": [],
   "source": []
  }
 ],
 "metadata": {
  "kernelspec": {
   "display_name": "Python 3.7.9 64-bit ('pysyft': conda)",
   "language": "python",
   "name": "python37964bitpysyftconda9f7082a39671434d900f0397808220f6"
  },
  "language_info": {
   "codemirror_mode": {
    "name": "ipython",
    "version": 3
   },
   "file_extension": ".py",
   "mimetype": "text/x-python",
   "name": "python",
   "nbconvert_exporter": "python",
   "pygments_lexer": "ipython3",
   "version": "3.7.9-final"
  }
 },
 "nbformat": 4,
 "nbformat_minor": 4
}